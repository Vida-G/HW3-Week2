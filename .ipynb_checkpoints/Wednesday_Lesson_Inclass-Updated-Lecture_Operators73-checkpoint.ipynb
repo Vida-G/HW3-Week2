{
 "cells": [
  {
   "cell_type": "markdown",
   "metadata": {},
   "source": [
    "# Data Collections 2 (Dictionaries, Sets) and Importing Modules"
   ]
  },
  {
   "cell_type": "markdown",
   "metadata": {},
   "source": [
    "## Tasks Today:\n",
    "\n",
    "1) Dictionary <br>\n",
    " &nbsp;&nbsp;&nbsp;&nbsp; a) Declaring (key, value) <br>\n",
    " &nbsp;&nbsp;&nbsp;&nbsp; b) Accessing Values <br>\n",
    " &nbsp;&nbsp;&nbsp;&nbsp; ------ Exercise #1 - Print the eye color of each person in a double nested dict <br>\n",
    " &nbsp;&nbsp;&nbsp;&nbsp; c) Adding New Pairs <br>\n",
    " &nbsp;&nbsp;&nbsp;&nbsp; d) Modifying Values <br>\n",
    " &nbsp;&nbsp;&nbsp;&nbsp; e) Removing Key, Value Pairs <br>\n",
    " &nbsp;&nbsp;&nbsp;&nbsp; f) Looping a Dictionary <br>\n",
    " &nbsp;&nbsp;&nbsp;&nbsp; g) Looping Only Keys <br>\n",
    " &nbsp;&nbsp;&nbsp;&nbsp; h) Looping Only Values <br>\n",
    " &nbsp;&nbsp;&nbsp;&nbsp; ------ Exercise #2 - Create a Function that Prints All Key Value Pairs within a print .format()  <br>\n",
    " &nbsp;&nbsp;&nbsp;&nbsp; i) sorted() <br>\n",
    " &nbsp;&nbsp;&nbsp;&nbsp; j) Lists with Dictionaries <br>\n",
    " &nbsp;&nbsp;&nbsp;&nbsp; k) Dictionaries with Lists <br>\n",
    " &nbsp;&nbsp;&nbsp;&nbsp; l) Dictionaries with Dictionaries <br>\n",
    " &nbsp;&nbsp;&nbsp;&nbsp; ------ Exercise #3 - Write a Function that asks someone's name and address, and then stores that into a dictionary, which prints all names and addresses after they're done putting information in...  <br>\n",
    "2) Dictionaries vs. Lists (over time)<br>\n",
    "3) Set <br>\n",
    " &nbsp;&nbsp;&nbsp;&nbsp; a) Declaring <br>\n",
    " &nbsp;&nbsp;&nbsp;&nbsp; b) .add() <br>\n",
    " &nbsp;&nbsp;&nbsp;&nbsp; c) .remove() <br>\n",
    " &nbsp;&nbsp;&nbsp;&nbsp; d) .union() <br>\n",
    " &nbsp;&nbsp;&nbsp;&nbsp; e) .intersection() <br>\n",
    " &nbsp;&nbsp;&nbsp;&nbsp; f) .difference() <br>\n",
    " &nbsp;&nbsp;&nbsp;&nbsp; g) Frozen Set <br>\n",
    "4) Modules <br>\n",
    " &nbsp;&nbsp;&nbsp;&nbsp; a) Importing Entire Modules <br>\n",
    " &nbsp;&nbsp;&nbsp;&nbsp; b) Importing Methods Only <br>\n",
    " &nbsp;&nbsp;&nbsp;&nbsp; c) Using the 'as' Keyword <br>\n",
    " &nbsp;&nbsp;&nbsp;&nbsp; d) Creating a Module <br>\n",
    "5) Exercises <br>\n",
    " &nbsp;&nbsp;&nbsp;&nbsp; a) Build a Shopping Cart <br>\n",
    " &nbsp;&nbsp;&nbsp;&nbsp; b) Create Your Own Module <br>"
   ]
  },
  {
   "cell_type": "markdown",
   "metadata": {},
   "source": [
    "## Dictionary <br>\n",
    "<p>A collection of data with 'key:value' pairs. Dictionaries are ordered as of Python 3.6</p>"
   ]
  },
  {
   "cell_type": "markdown",
   "metadata": {},
   "source": [
    "##### Declaring (key, value)"
   ]
  },
  {
   "cell_type": "code",
   "execution_count": 1,
   "metadata": {},
   "outputs": [
    {
     "name": "stdout",
     "output_type": "stream",
     "text": [
      "{'Nate': '333 Fake St', 'Marcus': '555 real St', 0: 'Here is the value for 0'}\n"
     ]
    }
   ],
   "source": [
    "# key should be unique\n",
    "# can use integers or strings as keys\n",
    "\n",
    "# declaring an empty dictionary\n",
    "\n",
    "d_1 = {}\n",
    "# OR\n",
    "d_2 = dict()\n",
    "\n",
    "# Or declaring with k, v pairs inside of them already\n",
    "\n",
    "d_3 = {'Nate': '333 Fake St', 'Marcus': '555 real St'}\n",
    "\n",
    "# better way to display \n",
    "d_3 = {\n",
    "    'Nate': '333 Fake St',\n",
    "    'Marcus': '555 real St',\n",
    "    0: 'Here is the value for 0'\n",
    "}\n",
    "\n",
    "print(d_3)"
   ]
  },
  {
   "cell_type": "markdown",
   "metadata": {},
   "source": [
    "##### Accessing Values"
   ]
  },
  {
   "cell_type": "code",
   "execution_count": 2,
   "metadata": {},
   "outputs": [
    {
     "data": {
      "text/plain": [
       "'Here is the value for 0'"
      ]
     },
     "execution_count": 2,
     "metadata": {},
     "output_type": "execute_result"
    }
   ],
   "source": [
    "# Accessing values\n",
    "\n",
    "d_3['Nate']\n",
    "\n",
    "d_3[0]"
   ]
  },
  {
   "cell_type": "markdown",
   "metadata": {},
   "source": [
    "## In-Class Exercise #1 - Print a formatted statement from the dictionary below <br>\n",
    "<p>The output should be '2018 Chevrolet Silverado'</p>"
   ]
  },
  {
   "cell_type": "code",
   "execution_count": 13,
   "metadata": {},
   "outputs": [
    {
     "name": "stdout",
     "output_type": "stream",
     "text": [
      "2018 Chevrolet Silverado\n"
     ]
    }
   ],
   "source": [
    "# use the dict below\n",
    "truck = {\n",
    "    'year': 2018,\n",
    "    'make': 'Chevrolet',\n",
    "    'model': 'Silverado'\n",
    "}\n",
    "\n",
    "print(f\"{truck['year']} {truck['make']} {truck['model']}\")\n",
    "print(truck['year'], truck['make'], truck['model'])"
   ]
  },
  {
   "cell_type": "markdown",
   "metadata": {},
   "source": [
    "##### Adding New Pairs"
   ]
  },
  {
   "cell_type": "code",
   "execution_count": 16,
   "metadata": {},
   "outputs": [
    {
     "name": "stdout",
     "output_type": "stream",
     "text": [
      "{'Nate': '333 Fake St', 'Marcus': '555 real St', 0: 'Here is the value for 0', 'Joel': '555 W Ontarion St'}\n"
     ]
    },
    {
     "data": {
      "text/plain": [
       "{'Nate': '333 Fake St',\n",
       " 'Marcus': '555 real St',\n",
       " 0: 'Here is the value for 0',\n",
       " 'Joel': '555 W Ontarion St'}"
      ]
     },
     "execution_count": 16,
     "metadata": {},
     "output_type": "execute_result"
    }
   ],
   "source": [
    "# syntax: dictName[newKey] = newValue\n",
    "\n",
    "print(d_3)\n",
    "\n",
    "d_3['Joel'] = '555 W Ontarion St'\n",
    "\n",
    "d_3"
   ]
  },
  {
   "cell_type": "markdown",
   "metadata": {},
   "source": [
    "##### Modifying Values"
   ]
  },
  {
   "cell_type": "code",
   "execution_count": 19,
   "metadata": {},
   "outputs": [
    {
     "data": {
      "text/plain": [
       "{'Nate': '333 Fake St',\n",
       " 'Marcus': '555 W Ontarion St, Chicago, IL',\n",
       " 0: 'Here is the value for 0',\n",
       " 'Joel': '555 W Ontarion St'}"
      ]
     },
     "execution_count": 19,
     "metadata": {},
     "output_type": "execute_result"
    }
   ],
   "source": [
    "# syntax dicName[existingKey] = newValue\n",
    "\n",
    "d_3['Marcus'] = '555 W Ontarion St'\n",
    "\n",
    "d_3\n",
    "\n",
    "# Maybe we want to append onto existing value (updating without overwriting)\n",
    "\n",
    "d_3['Marcus'] += ', Chicago, IL'\n",
    "d_3"
   ]
  },
  {
   "cell_type": "markdown",
   "metadata": {},
   "source": [
    "##### Removing Key, Value Pairs"
   ]
  },
  {
   "cell_type": "code",
   "execution_count": 22,
   "metadata": {},
   "outputs": [
    {
     "data": {
      "text/plain": [
       "{'Nate': '333 Fake St', 'Marcus': '555 W Ontarion St, Chicago, IL'}"
      ]
     },
     "execution_count": 22,
     "metadata": {},
     "output_type": "execute_result"
    }
   ],
   "source": [
    "# del dictName[existingKey]\n",
    "\n",
    "#del d_3[0]\n",
    "del d_3['Joel']\n",
    "\n",
    "d_3"
   ]
  },
  {
   "cell_type": "markdown",
   "metadata": {},
   "source": [
    "##### Looping a Dictionary"
   ]
  },
  {
   "cell_type": "code",
   "execution_count": 25,
   "metadata": {},
   "outputs": [
    {
     "name": "stdout",
     "output_type": "stream",
     "text": [
      "Nate address is 333 Fake St\n",
      "Marcus address is 555 W Ontarion St, Chicago, IL\n"
     ]
    }
   ],
   "source": [
    "# .items()\n",
    "#a, b, c = 1, 2, 3\n",
    "#print(a)\n",
    "#print(b)\n",
    "#print(c)\n",
    "\n",
    "for key,value in d_3.items():\n",
    "    print(f'{key} address is {value}')\n",
    "\n",
    "\n"
   ]
  },
  {
   "cell_type": "markdown",
   "metadata": {},
   "source": [
    "##### Looping Only Keys"
   ]
  },
  {
   "cell_type": "code",
   "execution_count": 27,
   "metadata": {},
   "outputs": [
    {
     "name": "stdout",
     "output_type": "stream",
     "text": [
      "Nate\n",
      "Marcus\n",
      "Nate\n",
      "Marcus\n"
     ]
    }
   ],
   "source": [
    "# .keys()\n",
    "\n",
    "for item in d_3:\n",
    "    print(item)\n",
    "    \n",
    "# prper way to over keys\n",
    "for key in d_3.keys():\n",
    "    print(key)\n",
    "    "
   ]
  },
  {
   "cell_type": "markdown",
   "metadata": {},
   "source": [
    "##### Looping Only Values"
   ]
  },
  {
   "cell_type": "code",
   "execution_count": 28,
   "metadata": {},
   "outputs": [
    {
     "name": "stdout",
     "output_type": "stream",
     "text": [
      "333 Fake St\n",
      "555 W Ontarion St, Chicago, IL\n"
     ]
    }
   ],
   "source": [
    "# .values()\n",
    "\n",
    "for value in d_3.values():\n",
    "    print(value)"
   ]
  },
  {
   "cell_type": "markdown",
   "metadata": {},
   "source": [
    "## In-Class Exercise #2 - Create a Function that Prints All Key Value Pairs within a print .format() <br>\n",
    "<p><b>Output should be:</b><br>\n",
    "Max has blue eyes<br>\n",
    "Lilly has brown eyes<br>\n",
    "Barney has blue eyes<br>\n",
    "etc.\n",
    "</p>"
   ]
  },
  {
   "cell_type": "code",
   "execution_count": 36,
   "metadata": {},
   "outputs": [
    {
     "name": "stdout",
     "output_type": "stream",
     "text": [
      "Max has blue eyes\n",
      "Lilly has brown eyes\n",
      "Barney has blue eyes\n",
      "Larney has brown eyes\n",
      "Ted has purple eyes\n"
     ]
    }
   ],
   "source": [
    "# use the dict below\n",
    "\n",
    "people = {\n",
    "    'Max': 'blue',\n",
    "    'Lilly': 'brown',\n",
    "    'Barney': 'blue',\n",
    "    'Larney': 'brown',\n",
    "    'Ted': 'purple'\n",
    "}\n",
    "def printEyes(a_dict):\n",
    "    for key,value in a_dict.items():\n",
    "        #print(f'{key} has {value} eyes\\n')\n",
    "        print(\"{} has {} eyes\".format(key,value))\n",
    "        \n",
    "printEyes(people)\n",
    "    "
   ]
  },
  {
   "cell_type": "markdown",
   "metadata": {},
   "source": [
    "##### sorted()"
   ]
  },
  {
   "cell_type": "code",
   "execution_count": 39,
   "metadata": {},
   "outputs": [
    {
     "name": "stdout",
     "output_type": "stream",
     "text": [
      "['Barney', 'Larney', 'Lilly', 'Max', 'Ted']\n",
      "['Barney', 'Larney', 'Lilly', 'Max', 'Ted']\n",
      "[('Barney', 'blue'), ('Larney', 'brown'), ('Lilly', 'brown'), ('Max', 'blue'), ('Ted', 'purple')]\n",
      "['blue', 'blue', 'brown', 'brown', 'purple']\n"
     ]
    }
   ],
   "source": [
    "# sorts variables in order\n",
    "# sorted(dict.values()) or dict.keys() or dict.items()\n",
    "\n",
    "print(sorted(people)) # just keys\n",
    "print(sorted(people.keys())) # also just keys\n",
    "print(sorted(people.items())) # return a sorted list of k,v pairs (as tuple) still sorted on the key\n",
    "print(sorted(people.values())) # return a list of all values sorted\n"
   ]
  },
  {
   "cell_type": "markdown",
   "metadata": {},
   "source": [
    "##### List with Dictionaries"
   ]
  },
  {
   "cell_type": "code",
   "execution_count": 43,
   "metadata": {},
   "outputs": [
    {
     "name": "stdout",
     "output_type": "stream",
     "text": [
      "some_guy\n",
      "some_girl\n"
     ]
    }
   ],
   "source": [
    "names = ['David', 'Justin', 'Derek', 'Terrell', 'Amber', {'some_guy': 'Adam', 'some_girl': \"jessica\"}]\n",
    "\n",
    "# another_list = [1,2,3, [4,5,6]]\n",
    "# another_list[3][0]\n",
    "\n",
    "names[5]['some_girl']\n",
    "\n",
    "# get all keys from nested dictionary in a list \n",
    "for key in names[5].keys():\n",
    "    print(key)"
   ]
  },
  {
   "cell_type": "markdown",
   "metadata": {},
   "source": [
    "##### Dictionaries with Lists"
   ]
  },
  {
   "cell_type": "code",
   "execution_count": 50,
   "metadata": {},
   "outputs": [
    {
     "name": "stdout",
     "output_type": "stream",
     "text": [
      "1\n",
      "4\n",
      "9\n"
     ]
    }
   ],
   "source": [
    "# be careful when using numbers as keys in dictionaries, don't confuse them with indexes\n",
    "\n",
    "random_dict = {\n",
    "    \"list1\": [1,2,3],\n",
    "    '2': [45,47,8]\n",
    "}\n",
    "\n",
    "random_dict['2'][0]\n",
    "\n",
    "\n",
    "random_dict['list1'][1]\n",
    "\n",
    "#loop through an ineer list and square each number\n",
    "for num in random_dict['list1']:\n",
    "    print(num**2)\n"
   ]
  },
  {
   "cell_type": "markdown",
   "metadata": {},
   "source": [
    "##### Dictionaries with Dictionaries"
   ]
  },
  {
   "cell_type": "code",
   "execution_count": 55,
   "metadata": {},
   "outputs": [
    {
     "name": "stdout",
     "output_type": "stream",
     "text": [
      "6.99\n"
     ]
    },
    {
     "data": {
      "text/plain": [
       "{'Name': 'Nate', 'employer': 'coding temple'}"
      ]
     },
     "execution_count": 55,
     "metadata": {},
     "output_type": "execute_result"
    }
   ],
   "source": [
    "# to get values, must traverse through keys\n",
    "\n",
    "food_dict = {\n",
    "    \"ice_cream\":{\n",
    "        'CHO': 2.99,\n",
    "        'VA': 3.99,\n",
    "        'OREO': 5.99,\n",
    "        'RR': [2.99, 4.99, 6.99]\n",
    "    }\n",
    "}\n",
    "\n",
    "print(food_dict['ice_cream']['RR'][2])\n",
    "\n",
    "# we can convert most iterable to a dictionary, but there must be 2 values that exist at each index\n",
    "\n",
    "some_info = [('Name', 'Nate'), ('employer', 'coding temple')]\n",
    "\n",
    "\n",
    "some_dict = dict(some_info)\n",
    "some_dict\n"
   ]
  },
  {
   "cell_type": "markdown",
   "metadata": {},
   "source": [
    "## Dictionaries vs. Lists (over time) Example of RUNTIME\n",
    "### When inputting values in a Dictionary vs List"
   ]
  },
  {
   "cell_type": "code",
   "execution_count": 56,
   "metadata": {},
   "outputs": [],
   "source": [
    "import time\n",
    "\n",
    "\n",
    "# generate fake dictionary\n",
    "d = {}\n",
    "\n",
    "for i in range(10000000):\n",
    "    d[i] = 'value'\n",
    "    \n",
    "\n",
    "# generate fake list\n",
    "big_list = [x for x in range(10000000)]"
   ]
  },
  {
   "cell_type": "code",
   "execution_count": 57,
   "metadata": {},
   "outputs": [
    {
     "name": "stdout",
     "output_type": "stream",
     "text": [
      "value\n",
      "Elapsed time for dictionary: 0.0008778572082519531\n",
      "9999999\n",
      "Elapsed time for list: 1.1305997371673584\n",
      "yeah!\n",
      "Elapsed time for dictionary: 0.000209808349609375\n",
      "yeah here as well!\n",
      "Elapsed time for list: 0.0011031627655029297\n"
     ]
    }
   ],
   "source": [
    "# tracking time for dictionary\n",
    "start_time = time.time()\n",
    "\n",
    "print(d[9999999])\n",
    "\n",
    "end_time = time.time() - start_time\n",
    "\n",
    "print('Elapsed time for dictionary: {}'.format(end_time))\n",
    "\n",
    "\n",
    "# tracking time for list\n",
    "start_time = time.time()\n",
    "\n",
    "for i in range(len(big_list)):\n",
    "    if i == 9999999:\n",
    "        print(i)\n",
    "\n",
    "end_time = time.time() - start_time\n",
    "\n",
    "print('Elapsed time for list: {}'.format(end_time))\n",
    "\n",
    "\n",
    "##### membership example\n",
    "\n",
    "start_time = time.time()\n",
    "if 9999 in d:\n",
    "    print('yeah!')\n",
    "end_time = time.time() - start_time\n",
    "print('Elapsed time for dictionary: {}'.format(end_time))\n",
    "\n",
    "\n",
    "start_time = time.time()\n",
    "if 9999 in big_list:\n",
    "    print('yeah here as well!')\n",
    "end_time = time.time() - start_time\n",
    "print('Elapsed time for list: {}'.format(end_time))"
   ]
  },
  {
   "cell_type": "markdown",
   "metadata": {},
   "source": [
    "## Exercise #3 - Write a Function that asks someone's name and address, and then stores that into a dictionary, and continues to do so until they choose to 'quit'. Once they quit, the program should print all names and addresses. <br>\n",
    "<p>\n",
    "<b>Proper steps:</b><br>\n",
    "step 1: write a function that takes in information and stores it in a dictionary<br>\n",
    "step 2: define an empty dictionary to work with<br>\n",
    "step 3: create our loop, which asks the user for information until they quit<br>\n",
    "step 4: ask for the information, and store it into variables<br>\n",
    "step 5: check if the user types quit<br>\n",
    "step 5a: print out all information<br>\n",
    "step 5b: break out of the loop<br>\n",
    "step 6: if they didn't quit, add the information to the dictionary<br>\n",
    "step 7: invoke the function by calling it\n",
    "</p>"
   ]
  },
  {
   "cell_type": "code",
   "execution_count": 66,
   "metadata": {},
   "outputs": [
    {
     "name": "stdout",
     "output_type": "stream",
     "text": [
      "{'Vida': 'G'}\n"
     ]
    }
   ],
   "source": [
    "from IPython.display import clear_output\n",
    "\n",
    "#step 1\n",
    "def writeInfo():\n",
    "    #step 2\n",
    "    d = {}\n",
    "    \n",
    "    #step 3\n",
    "    while True:\n",
    "        #step 4:\n",
    "        # asking for 2 inputs\n",
    "        name = input(\"What is your name?, if you want to quit please type 'quit'\")\n",
    "        address = input(\"what is your address?, if you want to quit please type 'quit'\")\n",
    "        clear_output()\n",
    "        \n",
    "        #step 5: \n",
    "        # conditional statement ... did they quit?? if so, print dictionary and be done\n",
    "        # if they didn't type 'quit' add name as the key, address as the value\n",
    "        if name.lower() == 'quit' or address.lower() == 'quit':\n",
    "            print(d)\n",
    "            break\n",
    "        # if they do not type 'quit' add name as the key and address as value\n",
    "        else:\n",
    "            d[name] = address\n",
    "# invoke writeInfo()\n",
    "writeInfo()\n"
   ]
  },
  {
   "cell_type": "markdown",
   "metadata": {},
   "source": [
    "## Set <br>\n",
    "<p>A Set is an unordered collection data type that is iterable (loop), mutable, and has no duplicate elements.<br>Major advantage is that it is highly optimized in checking if something is in the set, as opposed to checking if something is in a list.</p>"
   ]
  },
  {
   "cell_type": "markdown",
   "metadata": {},
   "source": [
    "##### Declaring"
   ]
  },
  {
   "cell_type": "code",
   "execution_count": 76,
   "metadata": {},
   "outputs": [
    {
     "name": "stdout",
     "output_type": "stream",
     "text": [
      "set()\n"
     ]
    },
    {
     "data": {
      "text/plain": [
       "[0, 1, 2, 3, 7, 50]"
      ]
     },
     "execution_count": 76,
     "metadata": {},
     "output_type": "execute_result"
    }
   ],
   "source": [
    "# set() or {}\n",
    "# no order {3, 2, 1} outputs as {1, 2, 3}\n",
    "\n",
    "set_1 = set()\n",
    "print(set_1)\n",
    "\n",
    "#Or adding your own values\n",
    "set_2 = {1,2,3,45,67, -1, 1000, 'Vida', 'A'}\n",
    "set_2\n",
    "\n",
    "#or set(list)\n",
    "set_3 = set([1,2,3,50,7,0])\n",
    "set_3\n",
    "\n",
    "#to make it list:\n",
    "list(set_3)"
   ]
  },
  {
   "cell_type": "markdown",
   "metadata": {},
   "source": [
    "##### .add()"
   ]
  },
  {
   "cell_type": "code",
   "execution_count": 77,
   "metadata": {},
   "outputs": [
    {
     "data": {
      "text/plain": [
       "{-1, 1, 1000, 2, 3, 45, 5, 67, 'A', 'Vida'}"
      ]
     },
     "execution_count": 77,
     "metadata": {},
     "output_type": "execute_result"
    }
   ],
   "source": [
    "# set.add()\n",
    "set_2.add(5)\n",
    "set_2"
   ]
  },
  {
   "cell_type": "markdown",
   "metadata": {},
   "source": [
    "##### .remove()"
   ]
  },
  {
   "cell_type": "code",
   "execution_count": 78,
   "metadata": {},
   "outputs": [
    {
     "data": {
      "text/plain": [
       "{-1, 1, 1000, 2, 45, 5, 67, 'A', 'Vida'}"
      ]
     },
     "execution_count": 78,
     "metadata": {},
     "output_type": "execute_result"
    }
   ],
   "source": [
    "# removes by value\n",
    "# set.remove()\n",
    "# nums.remove(56)\n",
    "\n",
    "set_2.remove(3)\n",
    "\n",
    "set_2"
   ]
  },
  {
   "cell_type": "markdown",
   "metadata": {},
   "source": [
    "##### .union() "
   ]
  },
  {
   "cell_type": "code",
   "execution_count": 81,
   "metadata": {},
   "outputs": [
    {
     "data": {
      "text/plain": [
       "{1, 2, 3, 4, 5, 6, 7, 8, 67}"
      ]
     },
     "execution_count": 81,
     "metadata": {},
     "output_type": "execute_result"
    }
   ],
   "source": [
    "# Returns a union of two sets, can also use '|' or set.union(set)\n",
    "# joins all numbers, gets rid of duplicates\n",
    "\n",
    "s1 = {1,2,3,4,5}\n",
    "s2 = {4,5,6,7,8}\n",
    "s5 = {67,8}\n",
    "\n",
    "s3 = s1.union(s2,s5)\n",
    "s3\n",
    "\n",
    "#or\n",
    "s4 = s1|s2|s5\n",
    "s4\n",
    "\n",
    "# add does not work here:\n",
    "#s3 = s1 + s2 --> gives an error"
   ]
  },
  {
   "cell_type": "markdown",
   "metadata": {},
   "source": [
    "##### .intersection()"
   ]
  },
  {
   "cell_type": "code",
   "execution_count": 84,
   "metadata": {},
   "outputs": [
    {
     "name": "stdout",
     "output_type": "stream",
     "text": [
      "{4, 5}\n",
      "{4, 5}\n"
     ]
    }
   ],
   "source": [
    "# Returns an intersection of two sets, can also use '&'\n",
    "# only takes similar elements from both sets\n",
    "\n",
    "s1 = {1,2,3,4,5}\n",
    "s2 = {4,5,6,7,8}\n",
    "\n",
    "s6 = s1.intersection(s2)\n",
    "print(s6)\n",
    "\n",
    "#or\n",
    "s7 = s1 & s2\n",
    "print(s7)\n"
   ]
  },
  {
   "cell_type": "markdown",
   "metadata": {},
   "source": [
    "##### .difference()"
   ]
  },
  {
   "cell_type": "code",
   "execution_count": 88,
   "metadata": {},
   "outputs": [
    {
     "name": "stdout",
     "output_type": "stream",
     "text": [
      "{1, 2, 3}\n",
      "{8, 6, 7}\n",
      "{1, 2, 3}\n"
     ]
    }
   ],
   "source": [
    "# Returns a set containing all the elements of invoking set that are not in the second set, can also use '-'\n",
    "# only takes values from the first set that are not in the second set\n",
    "# order matters\n",
    "\n",
    "s1 = {1,2,3,4,5}\n",
    "s2 = {4,5,6,7,8}\n",
    "\n",
    "s8 = s1 - s2\n",
    "print(s8)\n",
    "\n",
    "s9 = s2 - s1\n",
    "print(s9)\n",
    "\n",
    "s10 = s1.difference(s2)\n",
    "print(s10)"
   ]
  },
  {
   "cell_type": "markdown",
   "metadata": {},
   "source": [
    "##### .clear()"
   ]
  },
  {
   "cell_type": "code",
   "execution_count": 89,
   "metadata": {},
   "outputs": [
    {
     "name": "stdout",
     "output_type": "stream",
     "text": [
      "{1, 2, 3}\n"
     ]
    },
    {
     "data": {
      "text/plain": [
       "set()"
      ]
     },
     "execution_count": 89,
     "metadata": {},
     "output_type": "execute_result"
    }
   ],
   "source": [
    "# Empties the whole set\n",
    "# set.clear() -- takes all items out... leaves you with {...} or set()\n",
    "\n",
    "print(s10)\n",
    "\n",
    "s10.clear()\n",
    "s10"
   ]
  },
  {
   "cell_type": "markdown",
   "metadata": {},
   "source": [
    "##### Frozenset <br>\n",
    "<p>Frozen sets are immutable objects that only support methods and operators that produce a result without affecting the frozen set or sets to which they are applied.</p><br><b>Unique & Immutable</b>"
   ]
  },
  {
   "cell_type": "code",
   "execution_count": 92,
   "metadata": {},
   "outputs": [
    {
     "data": {
      "text/plain": [
       "frozenset({1, 2, 3, 6, 8, 10})"
      ]
     },
     "execution_count": 92,
     "metadata": {},
     "output_type": "execute_result"
    }
   ],
   "source": [
    "# frozenset([])\n",
    "\n",
    "fs = frozenset([1,2,6,8,10,10,3])\n",
    "fs\n",
    "\n",
    "#fs.remove(2) --> gives a error"
   ]
  },
  {
   "cell_type": "markdown",
   "metadata": {},
   "source": [
    "## Modules"
   ]
  },
  {
   "cell_type": "markdown",
   "metadata": {},
   "source": [
    "##### Importing Entire Modules"
   ]
  },
  {
   "cell_type": "code",
   "execution_count": 95,
   "metadata": {},
   "outputs": [
    {
     "data": {
      "text/plain": [
       "3.141592653589793"
      ]
     },
     "execution_count": 95,
     "metadata": {},
     "output_type": "execute_result"
    }
   ],
   "source": [
    "# import packageName or from packageName import *\n",
    "import math\n",
    "math.pi\n",
    "\n",
    "\n"
   ]
  },
  {
   "cell_type": "markdown",
   "metadata": {},
   "source": [
    "##### Importing Methods Only"
   ]
  },
  {
   "cell_type": "code",
   "execution_count": 99,
   "metadata": {},
   "outputs": [
    {
     "data": {
      "text/plain": [
       "3"
      ]
     },
     "execution_count": 99,
     "metadata": {},
     "output_type": "execute_result"
    }
   ],
   "source": [
    "# from 'xxx' import 'xxx'\n",
    "from math import floor, pi\n",
    "\n",
    "floor(pi)\n"
   ]
  },
  {
   "cell_type": "markdown",
   "metadata": {},
   "source": [
    "##### Using the 'as' Keyword"
   ]
  },
  {
   "cell_type": "code",
   "execution_count": 100,
   "metadata": {},
   "outputs": [
    {
     "data": {
      "text/plain": [
       "3"
      ]
     },
     "execution_count": 100,
     "metadata": {},
     "output_type": "execute_result"
    }
   ],
   "source": [
    "# from 'xxx' import 'xxx' as 'xxx' or import 'xxx' as 'xxx'\n",
    "from math import floor as f\n",
    "\n",
    "f(pi)\n"
   ]
  },
  {
   "cell_type": "markdown",
   "metadata": {},
   "source": [
    "##### Creating a Module"
   ]
  },
  {
   "cell_type": "code",
   "execution_count": 103,
   "metadata": {},
   "outputs": [
    {
     "name": "stdout",
     "output_type": "stream",
     "text": [
      "Hello Mr/Ms Temple...we've been waiting for you!\n",
      "Hello Mr/Ms Walter...we've been waiting for you!\n"
     ]
    }
   ],
   "source": [
    "import module \n",
    "\n",
    "module.printName('Temple')\n",
    "\n",
    "# simlirarly -- can import a function directly \n",
    "from module import printName\n",
    "\n",
    "printName('Walter')"
   ]
  },
  {
   "cell_type": "markdown",
   "metadata": {},
   "source": [
    "# Exercises"
   ]
  },
  {
   "cell_type": "markdown",
   "metadata": {},
   "source": [
    "### 1) Build a Shopping Cart <br>\n",
    "<p><b>You can use either lists or dictionaries. The program should have the following capabilities:</b><br><br>\n",
    "1) Takes in input <br>\n",
    "2) Stores user input into a dictionary or list <br>\n",
    "3) The User can add or delete items <br>\n",
    "4) The User can see current shopping list <br>\n",
    "5) The program Loops until user 'quits' <br>\n",
    "6) Upon quiting the program, print out all items in the user's list <br>\n",
    "</p>"
   ]
  },
  {
   "cell_type": "code",
   "execution_count": 5,
   "metadata": {},
   "outputs": [
    {
     "name": "stdout",
     "output_type": "stream",
     "text": [
      "What would you like to do? add / remove / or type 'quit' when you are done! add\n",
      "what do you want to add? apple\n",
      "items in your shopping cart: \n",
      "apple, Qty: 1\n",
      "What would you like to do? add / remove / or type 'quit' when you are done! add\n",
      "what do you want to add? apple\n",
      "items in your shopping cart: \n",
      "apple, Qty: 2\n",
      "What would you like to do? add / remove / or type 'quit' when you are done! add\n",
      "what do you want to add? banana\n",
      "items in your shopping cart: \n",
      "apple, Qty: 2\n",
      "banana, Qty: 1\n",
      "What would you like to do? add / remove / or type 'quit' when you are done! add\n",
      "what do you want to add? apple\n",
      "items in your shopping cart: \n",
      "apple, Qty: 3\n",
      "banana, Qty: 1\n",
      "What would you like to do? add / remove / or type 'quit' when you are done! remove\n",
      "what do you want to remove? apple\n",
      "items in your shopping cart: \n",
      "apple, Qty: 2\n",
      "banana, Qty: 1\n",
      "What would you like to do? add / remove / or type 'quit' when you are done! quit\n",
      "items in your shopping cart: \n",
      "apple, Qty: 2\n",
      "banana, Qty: 1\n",
      "Thanks for shopping with us!\n"
     ]
    }
   ],
   "source": [
    "from IPython.display import clear_output\n",
    "\n",
    "# Ask the user four bits of input: Do you want to : Show/Add/Delete or Quit?\n",
    "\n",
    "def shopping_cart():\n",
    "    \n",
    "    def print_cart(dict_cart):\n",
    "        print(\"items in your shopping cart: \")\n",
    "        for key,value in dict_cart.items():\n",
    "            print(f'{key}, Qty: {value}') \n",
    "    \n",
    "    dict_cart = {} \n",
    "    while True:\n",
    "        user_input = input(\"What would you like to do? add / remove / or type 'quit' when you are done! \")\n",
    "        \n",
    "        if user_input.lower() == 'quit':\n",
    "            print_cart(dict_cart)\n",
    "            print(\"Thanks for shopping with us!\")\n",
    "            break\n",
    "        else:\n",
    "            if user_input.lower() == 'add':\n",
    "                user_add = input(\"what do you want to add? \")\n",
    "                if user_add not in dict_cart:\n",
    "                    dict_cart[user_add] = 1\n",
    "                else:\n",
    "                    dict_cart[user_add] += 1                  \n",
    "                print_cart(dict_cart)\n",
    "                \n",
    "            elif user_input.lower() == 'remove':\n",
    "                user_rem = input(\"what do you want to remove? \")\n",
    "                dict_cart[user_rem] -= 1\n",
    "                if dict_cart[user_rem] == 0:\n",
    "                    del dict_cart[user_rem]\n",
    "                print_cart(dict_cart)\n",
    "                \n",
    "shopping_cart()"
   ]
  },
  {
   "cell_type": "markdown",
   "metadata": {},
   "source": [
    "### 2) Create a Module in VS Code and Import It into jupyter notebook <br>\n",
    "<p><b>Module should have the following capabilities:</b><br><br>\n",
    "1) Has a function to calculate the square footage of a house <br>\n",
    "    <b>Reminder of Formula: Length X Width == Area<br>\n",
    "        <hr>\n",
    "2) Has a function to calculate the circumference of a circle <br><br>\n",
    "<b>Program in Jupyter Notebook should take in user input and use imported functions to calculate a circle's circumference or a houses square footage</b>\n",
    "</p>"
   ]
  },
  {
   "cell_type": "code",
   "execution_count": 1,
   "metadata": {},
   "outputs": [],
   "source": [
    "from module import square_feet, circle_circum "
   ]
  },
  {
   "cell_type": "code",
   "execution_count": 2,
   "metadata": {},
   "outputs": [
    {
     "name": "stdout",
     "output_type": "stream",
     "text": [
      "The house is 88 square feet.\n"
     ]
    }
   ],
   "source": [
    "square_feet(11,8)"
   ]
  },
  {
   "cell_type": "code",
   "execution_count": 3,
   "metadata": {},
   "outputs": [
    {
     "name": "stdout",
     "output_type": "stream",
     "text": [
      "The circumference is 18.84\n"
     ]
    }
   ],
   "source": [
    "circle_circum(3)"
   ]
  },
  {
   "cell_type": "code",
   "execution_count": null,
   "metadata": {},
   "outputs": [],
   "source": []
  }
 ],
 "metadata": {
  "kernelspec": {
   "display_name": "Python 3",
   "language": "python",
   "name": "python3"
  },
  "language_info": {
   "codemirror_mode": {
    "name": "ipython",
    "version": 3
   },
   "file_extension": ".py",
   "mimetype": "text/x-python",
   "name": "python",
   "nbconvert_exporter": "python",
   "pygments_lexer": "ipython3",
   "version": "3.8.8"
  }
 },
 "nbformat": 4,
 "nbformat_minor": 2
}
